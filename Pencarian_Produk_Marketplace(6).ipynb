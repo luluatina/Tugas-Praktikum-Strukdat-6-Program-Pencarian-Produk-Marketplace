{
  "nbformat": 4,
  "nbformat_minor": 0,
  "metadata": {
    "colab": {
      "provenance": [],
      "authorship_tag": "ABX9TyMMeH/kLblVYhZ5/0VcBFT8",
      "include_colab_link": true
    },
    "kernelspec": {
      "name": "python3",
      "display_name": "Python 3"
    },
    "language_info": {
      "name": "python"
    }
  },
  "cells": [
    {
      "cell_type": "markdown",
      "metadata": {
        "id": "view-in-github",
        "colab_type": "text"
      },
      "source": [
        "<a href=\"https://colab.research.google.com/github/luluatina/Tugas-Praktikum-Strukdat-6-Program-Pencarian-Produk-Marketplace/blob/main/Pencarian_Produk_Marketplace(6).ipynb\" target=\"_parent\"><img src=\"https://colab.research.google.com/assets/colab-badge.svg\" alt=\"Open In Colab\"/></a>"
      ]
    },
    {
      "cell_type": "code",
      "execution_count": 3,
      "metadata": {
        "colab": {
          "base_uri": "https://localhost:8080/"
        },
        "id": "QuoL7bJsPzhI",
        "outputId": "87fd335b-ce72-404a-a3ef-78c90ced29cb"
      },
      "outputs": [
        {
          "output_type": "stream",
          "name": "stdout",
          "text": [
            "1. Urutkan berdasarkan harga (termurah ke termahal)\n",
            "2. Urutkan berdasarkan rating (tertinggi ke terendah)\n",
            "Masukkan pilihan (1/2): 2\n",
            "\n",
            "Daftar Produk Setelah Sorting:\n",
            "Nama: Cushion, Harga: Rp500000, Rating: 4.7\n",
            "Nama: Mascara, Harga: Rp30000, Rating: 4.6\n",
            "Nama: Lipcream, Harga: Rp70000, Rating: 4.5\n",
            "Nama: Eyeliner, Harga: Rp60000, Rating: 4.4\n",
            "Nama: Loose Powder, Harga: Rp150000, Rating: 4.2\n"
          ]
        }
      ],
      "source": [
        "def merge_sort(arr, key, descending=False):\n",
        "    if len(arr) > 1:\n",
        "        mid = len(arr) // 2\n",
        "        left_half = arr[:mid]\n",
        "        right_half = arr[mid:]\n",
        "\n",
        "        merge_sort(left_half, key, descending)\n",
        "        merge_sort(right_half, key, descending)\n",
        "\n",
        "        i = j = k = 0\n",
        "        while i < len(left_half) and j < len(right_half):\n",
        "            if (left_half[i][key] < right_half[j][key]) != descending:\n",
        "                arr[k] = left_half[i]\n",
        "                i += 1\n",
        "            else:\n",
        "                arr[k] = right_half[j]\n",
        "                j += 1\n",
        "            k += 1\n",
        "\n",
        "        while i < len(left_half):\n",
        "            arr[k] = left_half[i]\n",
        "            i += 1\n",
        "            k += 1\n",
        "\n",
        "        while j < len(right_half):\n",
        "            arr[k] = right_half[j]\n",
        "            j += 1\n",
        "            k += 1\n",
        "    return arr\n",
        "\n",
        "# Data produk (nama, harga, rating)\n",
        "produk = [\n",
        "    {\"nama\": \"Lipcream\", \"harga\": 70000, \"rating\": 4.5},\n",
        "    {\"nama\": \"Cushion\", \"harga\": 500000, \"rating\": 4.7},\n",
        "    {\"nama\": \"Loose Powder\", \"harga\": 150000, \"rating\": 4.2},\n",
        "    {\"nama\": \"Mascara\", \"harga\": 30000, \"rating\": 4.6},\n",
        "    {\"nama\": \"Eyeliner\", \"harga\": 60000, \"rating\": 4.4}\n",
        "]\n",
        "\n",
        "# Pilihan sorting\n",
        "print(\"1. Urutkan berdasarkan harga (termurah ke termahal)\")\n",
        "print(\"2. Urutkan berdasarkan rating (tertinggi ke terendah)\")\n",
        "pilihan = int(input(\"Masukkan pilihan (1/2): \"))\n",
        "\n",
        "if pilihan == 1:\n",
        "    sorted_produk = merge_sort(produk.copy(), key=\"harga\", descending=False)\n",
        "elif pilihan == 2:\n",
        "    sorted_produk = merge_sort(produk.copy(), key=\"rating\", descending=True)\n",
        "else:\n",
        "    print(\"Pilihan tidak valid\")\n",
        "    sorted_produk = []\n",
        "\n",
        "# Menampilkan hasil sorting\n",
        "if sorted_produk:\n",
        "    print(\"\\nDaftar Produk Setelah Sorting:\")\n",
        "    for p in sorted_produk:\n",
        "        print(f\"Nama: {p['nama']}, Harga: Rp{p['harga']}, Rating: {p['rating']}\")\n"
      ]
    }
  ]
}